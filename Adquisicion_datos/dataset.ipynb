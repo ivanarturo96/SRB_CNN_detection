{
 "cells": [
  {
   "cell_type": "code",
   "execution_count": null,
   "id": "e4f1acef",
   "metadata": {},
   "outputs": [],
   "source": [
    "import sys\n",
    "sys.path.append('../../../../Ecallisto/analisis/pycallisto/src/') \n",
    "import pycallisto as pyc\n",
    "import os\n",
    "import pycallisto_utils as utils\n",
    "import requests\n",
    "import matplotlib.cm as cm\n",
    "import matplotlib.pyplot as plt\n",
    "import numpy as np\n",
    "from PIL import Image"
   ]
  },
  {
   "cell_type": "code",
   "execution_count": null,
   "id": "592a0602",
   "metadata": {},
   "outputs": [],
   "source": [
    "# Save subtracted background spectrograms as png - SRB\n",
    "for file in os.listdir('PARAGUAY/FIT/'):\n",
    "    if(file[0:13]==\"PARAGUAY_2023\"): \n",
    "        try:\n",
    "            fit = pyc.PyCallisto.from_file('PARAGUAY/FIT/'+file)\n",
    "\n",
    "            background_subtracted = fit.subtract_background_3()\n",
    "            freq_sliced = background_subtracted.slice_frequency_axis(50,160)\n",
    "            plt = freq_sliced.spectrogram_2(fig_size=(4.65*1.3,4.65*1.3)) #656x656. Se multiplica un factor de 1.3 porque pyplot figure no atina en los inches\n",
    "            plt.savefig(\"../../test_PARAGUAY/SRB/\"+file[0:-4]+\".png\",bbox_inches='tight',pad_inches=0)#pad_inches=0\n",
    "        \n",
    "        except:\n",
    "            print(\"Something went wrong with file: \"+file)"
   ]
  },
  {
   "cell_type": "code",
   "execution_count": null,
   "id": "476d6610",
   "metadata": {},
   "outputs": [],
   "source": [
    "# Save subtracted background spectrograms as png - NO SRB\n",
    "for file in os.listdir('../NO ES SRB/PARAGUAY/FIT/'):\n",
    "    if(file[0:13]==\"PARAGUAY_2023\"): \n",
    "        try:\n",
    "            fit = pyc.PyCallisto.from_file('../NO ES SRB/PARAGUAY/FIT/'+file)\n",
    "        \n",
    "            background_subtracted = fit.subtract_background_3()\n",
    "            freq_sliced = background_subtracted.slice_frequency_axis(50,160)\n",
    "            plt = freq_sliced.spectrogram_2(fig_size=(4.65*1.3,4.65*1.3))\n",
    "            plt.savefig(\"../../test_PARAGUAY/NO_SRB/\"+file[0:-4]+\".png\",bbox_inches='tight',pad_inches=0)\n",
    "        except:\n",
    "            print(\"Something went wrong with file: \"+file)"
   ]
  }
 ],
 "metadata": {
  "kernelspec": {
   "display_name": "Python 3 (ipykernel)",
   "language": "python",
   "name": "python3"
  },
  "language_info": {
   "codemirror_mode": {
    "name": "ipython",
    "version": 3
   },
   "file_extension": ".py",
   "mimetype": "text/x-python",
   "name": "python",
   "nbconvert_exporter": "python",
   "pygments_lexer": "ipython3",
   "version": "3.9.13"
  }
 },
 "nbformat": 4,
 "nbformat_minor": 5
}
